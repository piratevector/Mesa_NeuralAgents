{
  "nbformat": 4,
  "nbformat_minor": 0,
  "metadata": {
    "colab": {
      "provenance": [],
      "authorship_tag": "ABX9TyORKNkAyNnVcViNFhhkwj0R",
      "include_colab_link": true
    },
    "kernelspec": {
      "name": "python3",
      "display_name": "Python 3"
    },
    "language_info": {
      "name": "python"
    }
  },
  "cells": [
    {
      "cell_type": "markdown",
      "metadata": {
        "id": "view-in-github",
        "colab_type": "text"
      },
      "source": [
        "<a href=\"https://colab.research.google.com/github/piratevector/Mesa_NeuralAgents/blob/main/Mesa_ABM_NeuralAgent_example.ipynb\" target=\"_parent\"><img src=\"https://colab.research.google.com/assets/colab-badge.svg\" alt=\"Open In Colab\"/></a>"
      ]
    },
    {
      "cell_type": "code",
      "source": [
        "!pip install mesa\n",
        "import numpy as np\n",
        "import mesa\n",
        "import pandas as pd\n",
        "import numpy as np\n",
        "import torch\n",
        "import torch.nn as nn\n",
        "import torch.optim as optim"
      ],
      "metadata": {
        "id": "IS9Rbu8f6chq",
        "colab": {
          "base_uri": "https://localhost:8080/"
        },
        "outputId": "939cd794-dab5-4964-8f37-59d898276298"
      },
      "execution_count": 2,
      "outputs": [
        {
          "output_type": "stream",
          "name": "stdout",
          "text": [
            "Collecting mesa\n",
            "  Downloading mesa-3.1.5-py3-none-any.whl.metadata (10 kB)\n",
            "Requirement already satisfied: numpy in /usr/local/lib/python3.11/dist-packages (from mesa) (2.0.2)\n",
            "Requirement already satisfied: pandas in /usr/local/lib/python3.11/dist-packages (from mesa) (2.2.2)\n",
            "Requirement already satisfied: scipy in /usr/local/lib/python3.11/dist-packages (from mesa) (1.14.1)\n",
            "Requirement already satisfied: tqdm in /usr/local/lib/python3.11/dist-packages (from mesa) (4.67.1)\n",
            "Requirement already satisfied: python-dateutil>=2.8.2 in /usr/local/lib/python3.11/dist-packages (from pandas->mesa) (2.8.2)\n",
            "Requirement already satisfied: pytz>=2020.1 in /usr/local/lib/python3.11/dist-packages (from pandas->mesa) (2025.2)\n",
            "Requirement already satisfied: tzdata>=2022.7 in /usr/local/lib/python3.11/dist-packages (from pandas->mesa) (2025.2)\n",
            "Requirement already satisfied: six>=1.5 in /usr/local/lib/python3.11/dist-packages (from python-dateutil>=2.8.2->pandas->mesa) (1.17.0)\n",
            "Downloading mesa-3.1.5-py3-none-any.whl (177 kB)\n",
            "\u001b[2K   \u001b[90m━━━━━━━━━━━━━━━━━━━━━━━━━━━━━━━━━━━━━━━━\u001b[0m \u001b[32m178.0/178.0 kB\u001b[0m \u001b[31m4.3 MB/s\u001b[0m eta \u001b[36m0:00:00\u001b[0m\n",
            "\u001b[?25hInstalling collected packages: mesa\n",
            "Successfully installed mesa-3.1.5\n"
          ]
        }
      ]
    },
    {
      "cell_type": "markdown",
      "source": [
        "# Introduction\n",
        "\n",
        "This simulation is an implementation of an agent-based model (ABM) using the Mesa framework, enhanced with artificial neural network (ANN) decision-making, inspired by the Sugarscape model described in the paper, \"Using Neural Networks for a Universal Framework for Agent-based Models\"<sup>1</sup>.\n",
        "\n",
        "<br>\n",
        "\n",
        "**Overview of the Simulation:**\n",
        "\n",
        "* Environment:\n",
        "  The agents inhabit a 2D grid (21x21) with periodic (toroidal) boundary conditions. The center of the grid has the highest concentration of a resource (\"sugar\"), which decreases radially outward.\n",
        "\n",
        "* Agents:\n",
        "  Each agent is initialized at a random location and has a wealth variable initially set to zero. They move on the grid in search of sugar, aiming to maximize their wealth.\n",
        "\n",
        "* Agent Decision Making (Neural Network):\n",
        "  Agents use sensory input from their immediate environment (sugar amounts and agent occupancy in adjacent cells) to decide their next move.Decision-making is modeled through a trained Multi-layer Perceptron (MLP) classifier, which learns from agents' experiences during a training phase.\n",
        "\n",
        "<br>\n",
        "\n",
        "> <small>1. Jäger, G. (2021). *Using Neural Networks for a Universal Framework for Agent-based Models*. Mathematical and Computer Modelling of Dynamical Systems, 27(1), 162–178. [https://doi.org/10.1080/13873954.2021.1889609](https://doi.org/10.1080/13873954.2021.1889609)</small>\n"
      ],
      "metadata": {
        "id": "wfahcbh5s4KZ"
      }
    },
    {
      "cell_type": "markdown",
      "source": [
        "## Functions and Methods:\n",
        "\n",
        "    NeuralAgent.step():\n",
        "\n",
        "  * Determines the best action using neural network predictions based on sensory input.\n",
        "\n",
        "  * Executes the selected action.\n",
        "\n",
        "\n",
        "    NeuralSugarscape.get_agent_input(agent):\n",
        "\n",
        "  * Gathers sensory inputs (sugar levels and agent occupancy) from adjacent grid cells for an agent.\n",
        "\n",
        "\n",
        "    NeuralSugarscape.perform_action(agent, action):\n",
        "\n",
        "  * Moves the agent and updates its wealth based on sugar collected at the new position.\n"
      ],
      "metadata": {
        "id": "5q26_tWc1_GF"
      }
    },
    {
      "cell_type": "code",
      "execution_count": 3,
      "metadata": {
        "id": "HN5ViwFz5hS_"
      },
      "outputs": [],
      "source": [
        "class NeuralNet(nn.Module):\n",
        "    def __init__(self, input_size, hidden_size, output_size):\n",
        "        super(NeuralNet, self).__init__()\n",
        "        self.fc1 = nn.Linear(input_size, hidden_size)\n",
        "        self.relu = nn.ReLU()\n",
        "        self.fc2 = nn.Linear(hidden_size, output_size)\n",
        "\n",
        "    def forward(self, x):\n",
        "        x = self.fc1(x)\n",
        "        x = self.relu(x)\n",
        "        x = self.fc2(x)\n",
        "        return x\n",
        "\n",
        "\n",
        "class NeuralAgent(mesa.Agent):\n",
        "    def __init__(self, model):\n",
        "        super().__init__(model)\n",
        "        self.wealth = 0\n",
        "\n",
        "    def step(self):\n",
        "        input_features = self.model.get_agent_input(self)\n",
        "        actions = [\"STAY\", \"NORTH\", \"SOUTH\", \"EAST\", \"WEST\"]\n",
        "\n",
        "        best_action, best_confidence = None, -np.inf\n",
        "        for action in actions:\n",
        "            feature_vector = np.append(input_features, actions.index(action))\n",
        "            feature_tensor = torch.tensor(feature_vector, dtype=torch.float32)\n",
        "            output = self.model.nn(feature_tensor)\n",
        "            confidence = output[1].item() - output[0].item()\n",
        "            if confidence > best_confidence:\n",
        "                best_confidence = confidence\n",
        "                best_action = action\n",
        "\n",
        "        self.model.perform_action(self, best_action)\n",
        "\n",
        "\n",
        "class NeuralSugarscape(mesa.Model):\n",
        "    def __init__(self, width=21, height=21, num_agents=75, training_steps=5000):\n",
        "        super().__init__()\n",
        "        self.grid = mesa.space.MultiGrid(width, height, torus=True)\n",
        "        self.num_agents = num_agents\n",
        "        self.sugar = np.array([[15 - np.sqrt((x - 10)**2 + (y - 10)**2) for x in range(width)] for y in range(height)])\n",
        "\n",
        "        # Create agents\n",
        "        for _ in range(num_agents):\n",
        "            agent = NeuralAgent(self)\n",
        "            x, y = self.random.randrange(width), self.random.randrange(height)\n",
        "            self.grid.place_agent(agent, (x, y))\n",
        "\n",
        "        # Gather experience (random actions)\n",
        "        data_X, data_y = [], []\n",
        "        for _ in range(training_steps):\n",
        "            for agent in self.agents:\n",
        "                input_features = self.get_agent_input(agent)\n",
        "                action = self.random.choice([0, 1, 2, 3, 4])\n",
        "                initial_wealth = agent.wealth\n",
        "                self.perform_action(agent, [\"STAY\", \"NORTH\", \"SOUTH\", \"EAST\", \"WEST\"][action])\n",
        "                result = np.sign(agent.wealth - initial_wealth)\n",
        "                data_X.append(np.append(input_features, action))\n",
        "                data_y.append(result + 1)  # Adjust labels to [0, 1, 2]\n",
        "\n",
        "        # Convert data to tensors\n",
        "        X_tensor = torch.tensor(np.array(data_X), dtype=torch.float32)\n",
        "        y_tensor = torch.tensor(np.array(data_y), dtype=torch.long)\n",
        "\n",
        "        # Define neural network\n",
        "        self.nn = NeuralNet(input_size=X_tensor.shape[1], hidden_size=20, output_size=3)\n",
        "\n",
        "        # Train neural network\n",
        "        criterion = nn.CrossEntropyLoss()\n",
        "        optimizer = optim.Adam(self.nn.parameters(), lr=0.01)\n",
        "\n",
        "        for epoch in range(100):\n",
        "            optimizer.zero_grad()\n",
        "            outputs = self.nn(X_tensor)\n",
        "            loss = criterion(outputs, y_tensor)\n",
        "            loss.backward()\n",
        "            optimizer.step()\n",
        "\n",
        "    def get_agent_input(self, agent):\n",
        "        x, y = agent.pos\n",
        "        sugar = [self.sugar[(y - 1) % self.grid.height, x], self.sugar[(y + 1) % self.grid.height, x],\n",
        "                 self.sugar[y, (x - 1) % self.grid.width], self.sugar[y, (x + 1) % self.grid.width], self.sugar[y, x]]\n",
        "        agent_counts = [len(self.grid.get_cell_list_contents([(x, (y - 1) % self.grid.height)])),\n",
        "                        len(self.grid.get_cell_list_contents([(x, (y + 1) % self.grid.height)])),\n",
        "                        len(self.grid.get_cell_list_contents([((x - 1) % self.grid.width, y)])),\n",
        "                        len(self.grid.get_cell_list_contents([((x + 1) % self.grid.width, y)])),\n",
        "                        len(self.grid.get_cell_list_contents([(x, y)]))]\n",
        "        return np.array(sugar + agent_counts)\n",
        "\n",
        "    def perform_action(self, agent, action):\n",
        "        move_dict = {\"STAY\": (0, 0), \"NORTH\": (0, -1), \"SOUTH\": (0, 1), \"EAST\": (1, 0), \"WEST\": (-1, 0)}\n",
        "        dx, dy = move_dict[action]\n",
        "        new_pos = ((agent.pos[0] + dx) % self.grid.width, (agent.pos[1] + dy) % self.grid.height)\n",
        "        agent.wealth += self.sugar[new_pos[1], new_pos[0]]\n",
        "        self.grid.move_agent(agent, new_pos)\n",
        "\n",
        "    def step(self):\n",
        "        self.agents.shuffle_do(\"step\")\n"
      ]
    },
    {
      "cell_type": "markdown",
      "source": [
        "**Phases of the Simulation:**\n",
        "\n",
        "1. Initialization. Grid is created with sugar values assigned via: $s(x,y)=15−(x−10)^2+(y−10)^2$\n",
        "\n",
        "  This creates a gradient of sugar values peaking at the center.\n",
        "\n",
        "2. Experience Gathering (Training Phase)\n",
        "\n",
        "    Agents initially take random actions (move North, South, East, West, or Stay) for several steps (5000 in this implementation).\n",
        "\n",
        "    After each action, the resulting change in the agent's wealth (collected sugar) is recorded as:\n",
        "\n",
        "        Positive (1) if wealth increases,\n",
        "\n",
        "        Negative (-1) if wealth decreases,\n",
        "\n",
        "        Neutral (0) if no change.\n",
        "\n",
        "    These experiences form a dataset (data_X, data_y) to train the neural network, with inputs including both sensory inputs and the chosen actions.\n",
        "\n",
        "3. Neural Network Training\n",
        "\n",
        "    A Multi-Layer Perceptron (MLP) classifier is trained using collected experience data.\n",
        "\n",
        "    Input features for training:\n",
        "\n",
        "    - Sugar amounts in adjacent cells (North, South, East, West, Current position)\n",
        "\n",
        "    - Number of agents present in these cells\n",
        "\n",
        "    - Chosen action (encoded numerically)\n",
        "\n",
        "    - Output labels for training:\n",
        "\n",
        "        - Change in wealth (positive, negative, neutral).\n",
        "\n",
        "4. Application Phase (Neural Network Decision-Making)\n",
        "\n",
        "    After training, agents use the neural network to choose actions:\n",
        "\n",
        "    - For each possible action, the network predicts whether the outcome will be positive, neutral, or negative.\n",
        "\n",
        "    - Agents select the action with the highest predicted positive confidence."
      ],
      "metadata": {
        "id": "eYoETMvAx2v-"
      }
    },
    {
      "cell_type": "code",
      "source": [
        "# Run model\n",
        "model = NeuralSugarscape()\n",
        "for i in range(1000):\n",
        "    model.step()\n",
        "\n",
        "# Output results\n",
        "agent_positions = [agent.pos for agent in model.agents]\n",
        "agent_wealth = [agent.wealth for agent in model.agents]"
      ],
      "metadata": {
        "id": "8dYytxfg67Un"
      },
      "execution_count": 5,
      "outputs": []
    },
    {
      "cell_type": "code",
      "source": [
        "pd.Series(agent_wealth).hist()"
      ],
      "metadata": {
        "colab": {
          "base_uri": "https://localhost:8080/",
          "height": 447
        },
        "id": "DJGnhm8N_reg",
        "outputId": "3d675c7c-dd40-44d1-9d30-585da7df4805"
      },
      "execution_count": 6,
      "outputs": [
        {
          "output_type": "execute_result",
          "data": {
            "text/plain": [
              "<Axes: >"
            ]
          },
          "metadata": {},
          "execution_count": 6
        },
        {
          "output_type": "display_data",
          "data": {
            "text/plain": [
              "<Figure size 640x480 with 1 Axes>"
            ],
            "image/png": "[encoded data removed]"
          },
          "metadata": {}
        }
      ]
    },
    {
      "cell_type": "markdown",
      "source": [
        "## Results:\n",
        "\n",
        "After running for 1000 simulation steps post-training, we have access to:\n",
        "\n",
        "        Final positions of all agents on the grid.\n",
        "\n",
        "        Final wealth distribution, indicating how much sugar each agent collected.\n",
        "\n",
        "**Practical Uses of This Simulation:**\n",
        "\n",
        "* Demonstrating how machine learning can automate rule formation for agent behaviors.\n",
        "\n",
        "* Investigating collective outcomes and emergent behaviors without predefined decision rules.\n",
        "\n",
        "* Exploring spatial distribution, resource gathering, and competition dynamics among autonomous decision-makers."
      ],
      "metadata": {
        "id": "Jk78lG_s2fnq"
      }
    }
  ]
}